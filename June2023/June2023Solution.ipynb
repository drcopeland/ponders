{
 "cells": [
  {
   "cell_type": "markdown",
   "id": "b3489aee",
   "metadata": {},
   "source": [
    "# June 2023 PonderThis Solution\n",
    "\n",
    "## By Daniel Copeland, Raphael Deem and Isaac Lawrence\n",
    "\n",
    "87\n",
    "FWWFWWFFWFFWFWWWFFWURURFWFFUFUFUWUFFFFRRUFUUFUUUURRFFRFUFUURURRUUUURRRURURFRRFRFUURURRRRRRRFFURUURR\n",
    "\n",
    "Bonus:\n",
    "\n",
    "185\n",
    "FFFFFFFFFFFFUFFFFUURFFFUUUUFRLUULRFRBRBRBRWRLLRWRWUWRDLUDLUWRLLRLLRWRLLRLLRBRWRWRBRWRWUBLUWUBLRLLRWFWRWRLLRBRDLRDLFWRLLRWRWUWUDDULLRWUWRWULLLRBRLLRLLRWRLLRWRWFBLRBRWRWFWRLLRBLFWRLLRBLFBLRDRLLRLLRWRLL"
   ]
  },
  {
   "cell_type": "markdown",
   "id": "cb09834b",
   "metadata": {},
   "source": [
    "### Explanation\n",
    "\n",
    "We used Python. We created a dictionary whose keys are the possible grid positions, and the value corresponding to each position was the tuple $($number of cheeses obtainable from this square in $T$ time steps, cheesiest path of length $T)$. Initially we start with $T = 0$. Then we update the grid as $T$ increases up to $N$. Updating the grid uses the cheese rule as well as the movement rule. After updating the grid $n$ many times, the value associated with the grid position $(1,1,1)$ contains the solution.\n",
    "\n",
    "The original problem was a little trickier than the bonus because of the rule that a cheese can only be eaten in a particular square once. We dealt with this by adding an extra $*$ symbol to our paths, roughly used to indicate that the current square has \"already\" (ie with $T$ smaller) contributed to the cheese total.\n",
    "\n",
    "The original problem took ~47 seconds of computer time, the bonus took ~845 seconds of compute time."
   ]
  }
 ],
 "metadata": {
  "kernelspec": {
   "display_name": "Python 3 (ipykernel)",
   "language": "python",
   "name": "python3"
  },
  "language_info": {
   "codemirror_mode": {
    "name": "ipython",
    "version": 3
   },
   "file_extension": ".py",
   "mimetype": "text/x-python",
   "name": "python",
   "nbconvert_exporter": "python",
   "pygments_lexer": "ipython3",
   "version": "3.10.9"
  }
 },
 "nbformat": 4,
 "nbformat_minor": 5
}
