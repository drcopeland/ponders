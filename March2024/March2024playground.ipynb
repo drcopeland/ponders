{
 "cells": [
  {
   "cell_type": "code",
   "execution_count": 1,
   "id": "6353e2c7",
   "metadata": {},
   "outputs": [],
   "source": [
    "import os, subprocess"
   ]
  },
  {
   "cell_type": "code",
   "execution_count": 2,
   "id": "368a6c4f",
   "metadata": {},
   "outputs": [],
   "source": [
    "def T(n):\n",
    "    return [int(i*(i-1)/2) for i in range(1,n+1)]"
   ]
  },
  {
   "cell_type": "code",
   "execution_count": 3,
   "id": "2693eb46",
   "metadata": {},
   "outputs": [
    {
     "data": {
      "text/plain": [
       "[0, 1, 3]"
      ]
     },
     "execution_count": 3,
     "metadata": {},
     "output_type": "execute_result"
    }
   ],
   "source": [
    "T(3)"
   ]
  },
  {
   "cell_type": "code",
   "execution_count": 4,
   "id": "4d659c25",
   "metadata": {},
   "outputs": [],
   "source": [
    "def find_initial_value(N):\n",
    "    TN = T(N)\n",
    "    found_sol = False\n",
    "    a = 0\n",
    "    while(found_sol == False):\n",
    "        a = a+1\n",
    "        for n in TN:\n",
    "            if (n + a) in P600Mill:\n",
    "                break\n",
    "            else:\n",
    "                if n == TN[-1]:\n",
    "                    found_sol = True\n",
    "                \n",
    "    return a"
   ]
  },
  {
   "cell_type": "code",
   "execution_count": 5,
   "id": "d1ac58c8",
   "metadata": {},
   "outputs": [],
   "source": [
    "p = !primesieve 10 -d 20 -p"
   ]
  },
  {
   "cell_type": "code",
   "execution_count": 6,
   "id": "5c74e6b6",
   "metadata": {},
   "outputs": [
    {
     "data": {
      "text/plain": [
       "['11', '13', '17', '19', '23', '29']"
      ]
     },
     "execution_count": 6,
     "metadata": {},
     "output_type": "execute_result"
    }
   ],
   "source": [
    "p"
   ]
  },
  {
   "cell_type": "code",
   "execution_count": 7,
   "id": "6e344826",
   "metadata": {},
   "outputs": [
    {
     "data": {
      "text/plain": [
       "[11, 13, 17, 19, 23, 29]"
      ]
     },
     "execution_count": 7,
     "metadata": {},
     "output_type": "execute_result"
    }
   ],
   "source": [
    "[int(x) for x in p]"
   ]
  },
  {
   "cell_type": "code",
   "execution_count": 8,
   "id": "9e11f4e9",
   "metadata": {},
   "outputs": [],
   "source": [
    "def find_initial_value_lim_mem(N=2024, a0 = 0):\n",
    "    # TN = T(N)\n",
    "    found_sol = False\n",
    "    a = a0\n",
    "    primes = !primesieve 0 -d 5000000 -p\n",
    "    primes = set([int(x) for x in primes])\n",
    "    maxn = 10\n",
    "    while(found_sol == False):\n",
    "        a = a+1\n",
    "        \n",
    "        # generate new primes every time a reaches a new bar mod 2,500,000\n",
    "        if a % 2500000 == 0:\n",
    "            print(f'a = {a}')\n",
    "            cmd = [\"primesieve\", str(a), \"-d\", \"5000000\", \"-p\"] # make sure we collect enough primes for N = 2024\n",
    "            result=subprocess.run(cmd, capture_output=True)\n",
    "            data = result.stdout\n",
    "            data = data.decode().split('\\n')\n",
    "            primes = set([int(x) for x in data if x])\n",
    "            \n",
    "        for n in range(1,N+1):\n",
    "            Tn = n*(n-1)/2\n",
    "            if (Tn + a) in primes:\n",
    "                if n > maxn:\n",
    "                    maxn = n\n",
    "                    print(f'New max n: {maxn}')\n",
    "                break\n",
    "            if n == N:\n",
    "                found_sol = True\n",
    "    return a"
   ]
  },
  {
   "cell_type": "code",
   "execution_count": null,
   "id": "8f9f4119",
   "metadata": {},
   "outputs": [
    {
     "name": "stdout",
     "output_type": "stream",
     "text": [
      "a = 16600000000\n",
      "New max n: 16\n",
      "New max n: 46\n",
      "New max n: 68\n",
      "New max n: 71\n",
      "New max n: 79\n",
      "New max n: 200\n",
      "New max n: 269\n",
      "New max n: 281\n",
      "New max n: 293\n",
      "New max n: 338\n",
      "New max n: 341\n",
      "New max n: 401\n",
      "New max n: 515\n",
      "New max n: 536\n",
      "New max n: 563\n",
      "New max n: 569\n",
      "New max n: 656\n",
      "New max n: 728\n",
      "New max n: 815\n",
      "New max n: 893\n",
      "New max n: 1043\n",
      "a = 16602500000\n",
      "a = 16605000000\n",
      "a = 16607500000\n",
      "New max n: 1055\n",
      "a = 16610000000\n",
      "a = 16612500000\n",
      "a = 16615000000\n",
      "a = 16617500000\n",
      "a = 16620000000\n",
      "a = 16622500000\n",
      "New max n: 1262\n",
      "a = 16625000000\n"
     ]
    }
   ],
   "source": [
    "find_initial_value_lim_mem(2024, 16599999999)"
   ]
  },
  {
   "cell_type": "code",
   "execution_count": 21,
   "id": "8ff4fc53",
   "metadata": {},
   "outputs": [
    {
     "data": {
      "text/plain": [
       "[\"primesieve: unrecognized option 'x'\", \"Try 'primesieve --help' for more information.\"]"
      ]
     },
     "execution_count": 21,
     "metadata": {},
     "output_type": "execute_result"
    }
   ],
   "source": [
    "x = 10\n",
    "primes = !primesieve x -d 20 -p\n",
    "primes"
   ]
  },
  {
   "cell_type": "code",
   "execution_count": 47,
   "id": "3c10e35e",
   "metadata": {},
   "outputs": [
    {
     "name": "stdout",
     "output_type": "stream",
     "text": [
      "a = 10\n"
     ]
    }
   ],
   "source": [
    "print(f'a = {x}')"
   ]
  },
  {
   "cell_type": "code",
   "execution_count": 46,
   "id": "e7d66fff",
   "metadata": {},
   "outputs": [
    {
     "data": {
      "text/plain": [
       "[11, 13, 17, 19, 23, 29]"
      ]
     },
     "execution_count": 46,
     "metadata": {},
     "output_type": "execute_result"
    }
   ],
   "source": [
    "x = 10\n",
    "cmd = [\"primesieve\", str(x), \"-d\", \"20\", \"-p\"]\n",
    "result=subprocess.run(cmd, capture_output=True)\n",
    "data = result.stdout\n",
    "data = data.decode().split('\\n')\n",
    "[int(x) for x in data if x]"
   ]
  },
  {
   "cell_type": "code",
   "execution_count": 41,
   "id": "52c70b19",
   "metadata": {},
   "outputs": [],
   "source": [
    "def check_answer(a, N):\n",
    "    TN = T(N)\n",
    "    for n in TN:\n",
    "        if is_prime(a + n):\n",
    "            return False\n",
    "    return True"
   ]
  },
  {
   "cell_type": "code",
   "execution_count": 47,
   "id": "2040a125",
   "metadata": {},
   "outputs": [
    {
     "data": {
      "text/plain": [
       "False"
      ]
     },
     "execution_count": 47,
     "metadata": {},
     "output_type": "execute_result"
    }
   ],
   "source": [
    "check_answer(199842054, 2024)"
   ]
  },
  {
   "cell_type": "code",
   "execution_count": null,
   "id": "03cd5cbd",
   "metadata": {},
   "outputs": [],
   "source": [
    "reduce?"
   ]
  },
  {
   "cell_type": "code",
   "execution_count": null,
   "id": "f49867dc",
   "metadata": {},
   "outputs": [],
   "source": []
  }
 ],
 "metadata": {
  "kernelspec": {
   "display_name": "SageMath 9.5",
   "language": "sage",
   "name": "sagemath"
  },
  "language_info": {
   "codemirror_mode": {
    "name": "ipython",
    "version": 3
   },
   "file_extension": ".py",
   "mimetype": "text/x-python",
   "name": "python",
   "nbconvert_exporter": "python",
   "pygments_lexer": "ipython3",
   "version": "3.10.12"
  }
 },
 "nbformat": 4,
 "nbformat_minor": 5
}
