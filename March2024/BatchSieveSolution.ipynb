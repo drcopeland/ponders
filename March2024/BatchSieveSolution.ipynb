{
 "cells": [
  {
   "cell_type": "markdown",
   "id": "6a4232d7",
   "metadata": {},
   "source": [
    "# Sieve approach to the bonus"
   ]
  },
  {
   "cell_type": "code",
   "execution_count": 7,
   "id": "adc3944f",
   "metadata": {},
   "outputs": [],
   "source": [
    "import subprocess\n",
    "import numpy as np\n",
    "import time\n",
    "import math"
   ]
  },
  {
   "cell_type": "code",
   "execution_count": 2,
   "id": "928c1050",
   "metadata": {},
   "outputs": [],
   "source": [
    "def T(n):\n",
    "    return [int(i*(i-1)/2) for i in range(1,n+1)]"
   ]
  },
  {
   "cell_type": "code",
   "execution_count": 3,
   "id": "bc4983c6",
   "metadata": {},
   "outputs": [],
   "source": [
    "def find_initial_value_lim_mem(N=2024, a0 = 0):\n",
    "    TN = T(N)\n",
    "    found_sol = False\n",
    "    a = a0\n",
    "    primes = !primesieve 0 -d 5000000 -p\n",
    "    primes = set([int(x) for x in primes])\n",
    "    while(found_sol == False):\n",
    "        a = a+1\n",
    "        \n",
    "        # generate new primes every time a reaches a new bar mod 2,500,000\n",
    "        if a % 2500000 == 0:\n",
    "            print(f'a = {a}')\n",
    "            cmd = [\"primesieve\", str(a), \"-d\", \"5000000\", \"-p\"]\n",
    "            result=subprocess.run(cmd, capture_output=True)\n",
    "            data = result.stdout\n",
    "            data = data.decode().split('\\n')\n",
    "            primes = set([int(x) for x in data if x])\n",
    "            \n",
    "        for n in TN:\n",
    "            if (n + a) in primes:\n",
    "                break\n",
    "            else:\n",
    "                if n == TN[-1]:\n",
    "                    found_sol = True\n",
    "    return a"
   ]
  },
  {
   "cell_type": "code",
   "execution_count": 6,
   "id": "56f0d81c",
   "metadata": {},
   "outputs": [],
   "source": [
    "# Use Kim Wallisch's primesieve to collect primes between start and start + interval (as a list)\n",
    "def get_primes(start, interval):\n",
    "    cmd = [\"primesieve\", str(start), \"-d\", str(interval), \"-p\"]\n",
    "    result = subprocess.run(cmd, capture_output=True)\n",
    "    data = result.stdout\n",
    "    data = data.decode().split('\\n')\n",
    "    primes = [int(x) for x in data if x]\n",
    "    return set(primes)\n",
    "    \n",
    "\n",
    "def batch_sieve(N = 2024, a0=1, batch_size = 1000000):\n",
    "    a = a0\n",
    "    found_sol = False\n",
    "    batch_num = 0\n",
    "    TN = T(N)\n",
    "    \n",
    "    interval = a + batch_size + int(N*(N-1)/2) + 10\n",
    "    primes = get_primes(a, interval)\n",
    "    sieve_flags = np.ones(batch_size, dtype=bool)\n",
    "    \n",
    "    while(found_sol == False):\n",
    "        \n",
    "        # sieve a single batch\n",
    "        for p in primes:\n",
    "            for n in TN:\n",
    "                # sieve_flags[0] = a, sieve_flags[batch_size - 1] = a + batch_size\n",
    "                if a <= p - n < a + batch_size:\n",
    "                    sieve_flags[p - n - a] = False\n",
    "        \n",
    "        sieve_ints = np.flatnonzero(sieve_flags) + a\n",
    "        # check if batch is empty\n",
    "        if len(sieve_ints) != 0:\n",
    "            found_sol = True\n",
    "        else:\n",
    "            batch_num += 1\n",
    "            print(f'Batch {batch_num} complete, a = {a}')\n",
    "            a = a0 + batch_num * batch_size\n",
    "            interval = a + batch_size + int(N*(N-1)/2) + 10\n",
    "            primes = get_primes(a, interval)\n",
    "            sieve_flags = np.ones(batch_size, dtype=bool)\n",
    "            \n",
    "            \n",
    "    return min(sieve_ints)\n",
    "        \n",
    "    "
   ]
  },
  {
   "cell_type": "code",
   "execution_count": 16,
   "id": "bd7e656c",
   "metadata": {},
   "outputs": [
    {
     "name": "stdout",
     "output_type": "stream",
     "text": [
      "Batch 1 complete, a = 1\n",
      "Batch 2 complete, a = 1000001\n",
      "Batch 3 complete, a = 2000001\n",
      "82.85356402397156\n"
     ]
    }
   ],
   "source": [
    "start = time.time()\n",
    "batch_sieve(500, 1)\n",
    "end = time.time()\n",
    "print(end-start)"
   ]
  },
  {
   "cell_type": "code",
   "execution_count": 15,
   "id": "86b7fc74",
   "metadata": {},
   "outputs": [
    {
     "name": "stdout",
     "output_type": "stream",
     "text": [
      "a = 2500000\n",
      "9.502754211425781\n"
     ]
    }
   ],
   "source": [
    "start = time.time()\n",
    "find_initial_value_lim_mem(500)\n",
    "end = time.time()\n",
    "print(end-start)"
   ]
  },
  {
   "cell_type": "code",
   "execution_count": null,
   "id": "db79a435",
   "metadata": {},
   "outputs": [],
   "source": [
    "x = np.ones(10, dtype=bool)"
   ]
  },
  {
   "cell_type": "code",
   "execution_count": 23,
   "id": "fc4ba83b",
   "metadata": {},
   "outputs": [
    {
     "data": {
      "text/plain": [
       "10"
      ]
     },
     "execution_count": 23,
     "metadata": {},
     "output_type": "execute_result"
    }
   ],
   "source": [
    "min(np.flatnonzero(x) + 10)"
   ]
  },
  {
   "cell_type": "markdown",
   "id": "138582fc",
   "metadata": {},
   "source": [
    "1000*999/2"
   ]
  },
  {
   "cell_type": "code",
   "execution_count": 54,
   "id": "f252b23f",
   "metadata": {},
   "outputs": [
    {
     "data": {
      "text/plain": [
       "-208204855955922272"
      ]
     },
     "execution_count": 54,
     "metadata": {},
     "output_type": "execute_result"
    }
   ],
   "source": [
    "np.lcm.reduce(T(100)[1:],dtype=int)"
   ]
  },
  {
   "cell_type": "code",
   "execution_count": 23,
   "id": "ff778a6b",
   "metadata": {},
   "outputs": [
    {
     "data": {
      "text/plain": [
       "4507358418399793311664786786972688922579514938990252669583660326392666824806812269736676801074307302785352869205568002239101072000"
      ]
     },
     "execution_count": 23,
     "metadata": {},
     "output_type": "execute_result"
    }
   ],
   "source": [
    "math.lcm(*T(300)[1:])"
   ]
  },
  {
   "cell_type": "code",
   "execution_count": 16,
   "id": "ca5572a8",
   "metadata": {},
   "outputs": [
    {
     "ename": "TypeError",
     "evalue": "'generator' object cannot be interpreted as an integer",
     "output_type": "error",
     "traceback": [
      "\u001b[0;31m---------------------------------------------------------------------------\u001b[0m",
      "\u001b[0;31mTypeError\u001b[0m                                 Traceback (most recent call last)",
      "\u001b[0;32m/tmp/ipykernel_3406/37587676.py\u001b[0m in \u001b[0;36m<module>\u001b[0;34m\u001b[0m\n\u001b[0;32m----> 1\u001b[0;31m \u001b[0mmath\u001b[0m\u001b[0;34m.\u001b[0m\u001b[0mlcm\u001b[0m\u001b[0;34m(\u001b[0m\u001b[0mx\u001b[0m \u001b[0;32mfor\u001b[0m \u001b[0mx\u001b[0m \u001b[0;32min\u001b[0m \u001b[0mT\u001b[0m\u001b[0;34m(\u001b[0m\u001b[0;36m3\u001b[0m\u001b[0;34m)\u001b[0m\u001b[0;34m)\u001b[0m\u001b[0;34m\u001b[0m\u001b[0;34m\u001b[0m\u001b[0m\n\u001b[0m",
      "\u001b[0;31mTypeError\u001b[0m: 'generator' object cannot be interpreted as an integer"
     ]
    }
   ],
   "source": [
    "math.lcm(x for x in T(3))"
   ]
  },
  {
   "cell_type": "code",
   "execution_count": 24,
   "id": "6b2cc4f8",
   "metadata": {},
   "outputs": [
    {
     "data": {
      "text/plain": [
       "[1, 2, 3, 4]"
      ]
     },
     "execution_count": 24,
     "metadata": {},
     "output_type": "execute_result"
    }
   ],
   "source": [
    "[x for x in range(1,5)]"
   ]
  },
  {
   "cell_type": "code",
   "execution_count": null,
   "id": "1d70185d",
   "metadata": {},
   "outputs": [],
   "source": []
  }
 ],
 "metadata": {
  "kernelspec": {
   "display_name": "Python 3 (ipykernel)",
   "language": "python",
   "name": "python3"
  },
  "language_info": {
   "codemirror_mode": {
    "name": "ipython",
    "version": 3
   },
   "file_extension": ".py",
   "mimetype": "text/x-python",
   "name": "python",
   "nbconvert_exporter": "python",
   "pygments_lexer": "ipython3",
   "version": "3.10.12"
  }
 },
 "nbformat": 4,
 "nbformat_minor": 5
}
